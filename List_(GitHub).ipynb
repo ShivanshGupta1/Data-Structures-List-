{
  "nbformat": 4,
  "nbformat_minor": 0,
  "metadata": {
    "colab": {
      "name": "List (GitHub).ipynb",
      "provenance": [],
      "authorship_tag": "ABX9TyPdKtYiKTJheq1UPsfFFCxQ",
      "include_colab_link": true
    },
    "kernelspec": {
      "name": "python3",
      "display_name": "Python 3"
    }
  },
  "cells": [
    {
      "cell_type": "markdown",
      "metadata": {
        "id": "view-in-github",
        "colab_type": "text"
      },
      "source": [
        "<a href=\"https://colab.research.google.com/github/ShivanshGupta1/Data-Structures-List-/blob/main/List_(GitHub).ipynb\" target=\"_parent\"><img src=\"https://colab.research.google.com/assets/colab-badge.svg\" alt=\"Open In Colab\"/></a>"
      ]
    },
    {
      "cell_type": "code",
      "metadata": {
        "id": "ROX9dX2g0dTd"
      },
      "source": [
        "#List\n",
        "Age = [[1,2,3,4,5,6,7,8,9],['Shivansh'], [False, 2.5], ['Age Of Shivansh:',12]]\n",
        "print(Age)"
      ],
      "execution_count": null,
      "outputs": []
    },
    {
      "cell_type": "code",
      "metadata": {
        "id": "19WzYpuN0kUl"
      },
      "source": [
        "#Index\n",
        "Number =[1,34,56]\n",
        "print(Number[2])"
      ],
      "execution_count": null,
      "outputs": []
    },
    {
      "cell_type": "code",
      "metadata": {
        "id": "GRxTPsKZ0lU1"
      },
      "source": [
        "#Joining Lists\n",
        "L1 =[9,8,4]\n",
        "L2 =[7,5,4]\n",
        "L1 = L1+L2\n",
        "print(L1)"
      ],
      "execution_count": null,
      "outputs": []
    },
    {
      "cell_type": "code",
      "metadata": {
        "id": "WiJ47mcN0nsI"
      },
      "source": [
        "#Built In Functions\n",
        "#Length\n",
        "l1 = [9,6,5,53,53,532,]\n",
        "print(len(l1))"
      ],
      "execution_count": null,
      "outputs": []
    },
    {
      "cell_type": "code",
      "metadata": {
        "id": "8ZGspclQ0oV4"
      },
      "source": [
        "#Built In Functions\n",
        "#Sum\n",
        "l1 =[23,2.5,67,8]\n",
        "print(sum(l1))"
      ],
      "execution_count": null,
      "outputs": []
    },
    {
      "cell_type": "code",
      "metadata": {
        "id": "mpad67mL0qf3"
      },
      "source": [
        "#Built In Functions\n",
        "#Max\n",
        "l1 =[23,2.5,67,8]\n",
        "print(max(l1))"
      ],
      "execution_count": null,
      "outputs": []
    },
    {
      "cell_type": "code",
      "metadata": {
        "id": "V0p-R6pz0sCj"
      },
      "source": [
        "#Built In Functions\n",
        "#Min\n",
        "l1 =[23,2.5,67,8]\n",
        "print(min(l1))"
      ],
      "execution_count": null,
      "outputs": []
    },
    {
      "cell_type": "code",
      "metadata": {
        "id": "nSagh8Eb0tws"
      },
      "source": [
        "l1 = [65,8.5,67,90,23]\n",
        "print(sum(l1)/len(l1))"
      ],
      "execution_count": null,
      "outputs": []
    },
    {
      "cell_type": "code",
      "metadata": {
        "id": "gJGFb44p0vnk"
      },
      "source": [
        "#List Methods\n",
        "#Index\n",
        "l = [9,0,3,5,6]\n",
        "print(l.index(5))"
      ],
      "execution_count": null,
      "outputs": []
    },
    {
      "cell_type": "code",
      "metadata": {
        "id": "flQB8uYH0xK1"
      },
      "source": [
        "#List Methods\n",
        "#Count\n",
        "l = [9,0,3,5,5,6,5,5]\n",
        "print(l.count(5))"
      ],
      "execution_count": null,
      "outputs": []
    },
    {
      "cell_type": "code",
      "metadata": {
        "id": "F3BqoMbu0yk2"
      },
      "source": [
        "#List Methods\n",
        "#Append\n",
        "l = [9,0,3,5,5,6,5,5]\n",
        "l.append(507)\n",
        "print(l)"
      ],
      "execution_count": null,
      "outputs": []
    },
    {
      "cell_type": "code",
      "metadata": {
        "id": "3-8bR1Fz00fD"
      },
      "source": [
        "#List Methods\n",
        "#Sort\n",
        "l = [9,0,3,5,5,6,5,5]\n",
        "a = ['e','b','g','e',]\n",
        "l.sort()\n",
        "a.sort(reverse=True)\n",
        "print(a)\n",
        "print(l)"
      ],
      "execution_count": null,
      "outputs": []
    },
    {
      "cell_type": "code",
      "metadata": {
        "id": "B7NtPrgw02lu"
      },
      "source": [
        "#List Methods\n",
        "#Reverse\n",
        "l = [9,0,3,5,5,6,5,5]\n",
        "l.reverse()\n",
        "print(l)"
      ],
      "execution_count": null,
      "outputs": []
    },
    {
      "cell_type": "code",
      "metadata": {
        "id": "gqu5z2Qv04Pq"
      },
      "source": [
        "#List Methods\n",
        "#Remove\n",
        "l =[9,0,8,3,7,9,95]\n",
        "l.remove(9)\n",
        "l.pop(5)\n",
        "print(l)"
      ],
      "execution_count": null,
      "outputs": []
    },
    {
      "cell_type": "code",
      "metadata": {
        "id": "lP_-Q_q005Tt"
      },
      "source": [
        "#List Methods\n",
        "#Insert\n",
        "l =[4,6,5,23,53]\n",
        "l.insert(3,8)\n",
        "print(l)"
      ],
      "execution_count": null,
      "outputs": []
    },
    {
      "cell_type": "code",
      "metadata": {
        "id": "pQXQk3M406WQ"
      },
      "source": [
        "#List Methods\n",
        "#Eval\n",
        "l = eval(input('Enter The Element: '))\n",
        "print(l)"
      ],
      "execution_count": null,
      "outputs": []
    },
    {
      "cell_type": "code",
      "metadata": {
        "id": "zxHNS9NC07bE"
      },
      "source": [
        "User = [eval(input('Your Integer: '))]\n",
        "print(len(User))\n",
        "print(User)"
      ],
      "execution_count": null,
      "outputs": []
    }
  ]
}